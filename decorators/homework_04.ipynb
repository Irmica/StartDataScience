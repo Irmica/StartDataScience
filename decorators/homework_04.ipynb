{
 "nbformat": 4,
 "nbformat_minor": 0,
 "metadata": {
  "colab": {
   "provenance": []
  },
  "kernelspec": {
   "name": "python3",
   "language": "python",
   "display_name": "Python 3 (ipykernel)"
  },
  "language_info": {
   "name": "python"
  }
 },
 "cells": [
  {
   "cell_type": "markdown",
   "source": [
    "# Домашнее задание: декораторы"
   ],
   "metadata": {
    "id": "QY4qPJPpgyIS"
   }
  },
  {
   "cell_type": "markdown",
   "source": [
    "## Импорт библиотек, установка констант"
   ],
   "metadata": {
    "id": "Chacc6YchldZ"
   }
  },
  {
   "cell_type": "code",
   "source": [
    "import requests\n",
    "import time\n",
    "import re\n",
    "\n",
    "from random import randint"
   ],
   "metadata": {
    "id": "w8iKrWvwhrFd",
    "ExecuteTime": {
     "end_time": "2024-03-04T10:54:42.918492Z",
     "start_time": "2024-03-04T10:54:42.915906Z"
    }
   },
   "execution_count": 18,
   "outputs": []
  },
  {
   "cell_type": "code",
   "source": [
    "BOOK_PATH = 'https://www.gutenberg.org/files/2638/2638-0.txt'"
   ],
   "metadata": {
    "id": "-LRkS0fSi8Np",
    "ExecuteTime": {
     "end_time": "2024-03-04T10:54:42.936515Z",
     "start_time": "2024-03-04T10:54:42.933953Z"
    }
   },
   "execution_count": 19,
   "outputs": []
  },
  {
   "cell_type": "markdown",
   "source": [
    "## Задание 1"
   ],
   "metadata": {
    "id": "kARfL8ifg4MH"
   }
  },
  {
   "cell_type": "code",
   "execution_count": 20,
   "metadata": {
    "id": "hNHNWPhngrUl",
    "ExecuteTime": {
     "end_time": "2024-03-04T10:54:42.958420Z",
     "start_time": "2024-03-04T10:54:42.954020Z"
    }
   },
   "outputs": [],
   "source": [
    "from functools import wraps\n",
    "\n",
    "\n",
    "def benchmark(func):\n",
    "    \"\"\"\n",
    "    Декоратор, выводящий время, которое заняло выполнение декорируемой функции\n",
    "    \"\"\"\n",
    "\n",
    "    @wraps(func)\n",
    "    def wrapper(*args, **kwargs):\n",
    "        start = time.perf_counter()\n",
    "        result = func(*args, **kwargs)\n",
    "        end = time.perf_counter()\n",
    "        print(f'{func.__name__} потребовалось {end - start:.6f} секунд')\n",
    "        return result\n",
    "\n",
    "    return wrapper"
   ]
  },
  {
   "cell_type": "markdown",
   "source": [
    "## Задание 2"
   ],
   "metadata": {
    "id": "tGlbUKjihL5n"
   }
  },
  {
   "cell_type": "code",
   "source": [
    "def logging(func):\n",
    "    \"\"\"\n",
    "    Декоратор, который выводит параметры с которыми была вызвана функция\n",
    "    \"\"\"\n",
    "\n",
    "    def wrapper(*args, **kwargs):\n",
    "        print(f\"Функция {func.__name__} была вызвана с параметрами:\")\n",
    "        print(f\"Позиционные аргументы: {args}\")\n",
    "        print(f\"Именованные аргументы: {kwargs}\")\n",
    "        return func(*args, **kwargs)\n",
    "\n",
    "    return wrapper"
   ],
   "metadata": {
    "id": "wugOZDLqhNe-",
    "ExecuteTime": {
     "end_time": "2024-03-04T10:54:42.973951Z",
     "start_time": "2024-03-04T10:54:42.969829Z"
    }
   },
   "execution_count": 21,
   "outputs": []
  },
  {
   "cell_type": "markdown",
   "source": [
    "## Задание 3"
   ],
   "metadata": {
    "id": "Sq1tv5fshTfv"
   }
  },
  {
   "cell_type": "code",
   "source": [
    "def counter(func):\n",
    "    \"\"\"\n",
    "    Декоратор, считающий и выводящий количество вызовов декорируемой функции\n",
    "    \"\"\"\n",
    "\n",
    "    def wrapper(*args, **kwargs):\n",
    "        wrapper.calls += 1\n",
    "        print(f\"Функция {func.__name__} была вызвана {wrapper.calls} раз(а)\")\n",
    "        return func(*args, **kwargs)\n",
    "\n",
    "    wrapper.calls = 0\n",
    "\n",
    "    ...\n",
    "    return wrapper"
   ],
   "metadata": {
    "id": "9nyvuxXkhVeb",
    "ExecuteTime": {
     "end_time": "2024-03-04T10:54:42.980929Z",
     "start_time": "2024-03-04T10:54:42.977218Z"
    }
   },
   "execution_count": 22,
   "outputs": []
  },
  {
   "cell_type": "markdown",
   "source": [
    "## Задание 4"
   ],
   "metadata": {
    "id": "uHn8Adfshz5q"
   }
  },
  {
   "cell_type": "code",
   "source": [
    "def memo(func):\n",
    "    \"\"\"\n",
    "    Декоратор, запоминающий результаты исполнения функции func, чьи аргументы args должны быть хешируемыми\n",
    "    \"\"\"\n",
    "    cache = {}\n",
    "\n",
    "    def fmemo(*args):\n",
    "        if args in cache:\n",
    "            print(f\"Результат для {args} был взят из кэша\")\n",
    "            return cache[args]\n",
    "        else:\n",
    "            result = func(*args)\n",
    "            cache[args] = result\n",
    "            return result\n",
    "\n",
    "    fmemo.cache = cache\n",
    "    return fmemo"
   ],
   "metadata": {
    "id": "R7uu6WtGifNX",
    "ExecuteTime": {
     "end_time": "2024-03-04T10:54:42.986208Z",
     "start_time": "2024-03-04T10:54:42.982065Z"
    }
   },
   "execution_count": 23,
   "outputs": []
  },
  {
   "cell_type": "markdown",
   "source": [
    "## Тестирование"
   ],
   "metadata": {
    "id": "Zn5UQCa_izxo"
   }
  },
  {
   "cell_type": "code",
   "source": [
    "@counter\n",
    "@logging\n",
    "@benchmark\n",
    "def word_count(word, url=BOOK_PATH):\n",
    "    \"\"\"\n",
    "    Функция для посчета указанного слова на html-странице\n",
    "    \"\"\"\n",
    "\n",
    "    # отправляем запрос в библиотеку Gutenberg и забираем текст\n",
    "    raw = requests.get(url).text\n",
    "\n",
    "    # заменяем в тексте все небуквенные символы на пробелы\n",
    "    processed_book = re.sub('[\\W]+', ' ', raw).lower()\n",
    "\n",
    "    # считаем\n",
    "    cnt = len(re.findall(word.lower(), processed_book))\n",
    "\n",
    "    return f\"Cлово {word} встречается {cnt} раз\"\n",
    "\n",
    "\n",
    "print(word_count('whole'))"
   ],
   "metadata": {
    "id": "CHCJ64I8i2QB",
    "ExecuteTime": {
     "end_time": "2024-03-04T10:54:44.881960Z",
     "start_time": "2024-03-04T10:54:43.016179Z"
    }
   },
   "execution_count": 24,
   "outputs": [
    {
     "name": "stdout",
     "output_type": "stream",
     "text": [
      "Функция wrapper была вызвана 1 раз(а)\n",
      "Функция word_count была вызвана с параметрами:\n",
      "Позиционные аргументы: ('whole',)\n",
      "Именованные аргументы: {}\n",
      "word_count потребовалось 1.861709 секунд\n",
      "Cлово whole встречается 176 раз\n"
     ]
    }
   ]
  },
  {
   "cell_type": "code",
   "source": [
    "@benchmark\n",
    "def fib(n):\n",
    "    if n < 2:\n",
    "        return n\n",
    "    return fib(n - 2) + fib(n - 1)"
   ],
   "metadata": {
    "id": "ZE4Rfn-hh3k3",
    "ExecuteTime": {
     "end_time": "2024-03-04T10:54:44.887201Z",
     "start_time": "2024-03-04T10:54:44.883063Z"
    }
   },
   "execution_count": 25,
   "outputs": []
  },
  {
   "cell_type": "code",
   "source": [
    "# измеряем время выполнения\n",
    "print(fib(4))"
   ],
   "metadata": {
    "id": "Io94NyjiiXG4",
    "ExecuteTime": {
     "end_time": "2024-03-04T10:54:44.891506Z",
     "start_time": "2024-03-04T10:54:44.888285Z"
    }
   },
   "execution_count": 26,
   "outputs": [
    {
     "name": "stdout",
     "output_type": "stream",
     "text": [
      "fib потребовалось 0.000000 секунд\n",
      "fib потребовалось 0.000001 секунд\n",
      "fib потребовалось 0.000086 секунд\n",
      "fib потребовалось 0.000000 секунд\n",
      "fib потребовалось 0.000001 секунд\n",
      "fib потребовалось 0.000000 секунд\n",
      "fib потребовалось 0.000007 секунд\n",
      "fib потребовалось 0.000014 секунд\n",
      "fib потребовалось 0.000106 секунд\n",
      "3\n"
     ]
    }
   ]
  },
  {
   "cell_type": "code",
   "source": [
    "@memo\n",
    "@benchmark\n",
    "def fib(n):\n",
    "    if n < 2:\n",
    "        return n\n",
    "    return fib(n - 2) + fib(n - 1)"
   ],
   "metadata": {
    "id": "W9B3e-t9iTUj",
    "ExecuteTime": {
     "end_time": "2024-03-04T10:55:36.335708Z",
     "start_time": "2024-03-04T10:55:36.331962Z"
    }
   },
   "execution_count": 30,
   "outputs": []
  },
  {
   "cell_type": "code",
   "source": [
    "# измеряем время выполнения\n",
    "print(fib(6))"
   ],
   "metadata": {
    "id": "Sk6_4KQaidkh",
    "ExecuteTime": {
     "end_time": "2024-03-04T10:55:38.758419Z",
     "start_time": "2024-03-04T10:55:38.755343Z"
    }
   },
   "execution_count": 31,
   "outputs": [
    {
     "name": "stdout",
     "output_type": "stream",
     "text": [
      "fib потребовалось 0.000000 секунд\n",
      "fib потребовалось 0.000000 секунд\n",
      "fib потребовалось 0.000031 секунд\n",
      "Результат для (1,) был взят из кэша\n",
      "Результат для (2,) был взят из кэша\n",
      "fib потребовалось 0.000007 секунд\n",
      "fib потребовалось 0.000045 секунд\n",
      "Результат для (3,) был взят из кэша\n",
      "Результат для (4,) был взят из кэша\n",
      "fib потребовалось 0.000005 секунд\n",
      "fib потребовалось 0.000056 секунд\n",
      "8\n"
     ]
    }
   ]
  }
 ]
}
